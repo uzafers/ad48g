{
 "cells": [
  {
   "cell_type": "markdown",
   "id": "0ad42ef0-0597-461c-9ef9-ff1cf4a672a7",
   "metadata": {},
   "source": [
    "# Loading Packages and Dataset"
   ]
  },
  {
   "cell_type": "code",
   "execution_count": null,
   "id": "b68daf93-4408-47a1-a52c-8e63c75248e3",
   "metadata": {
    "tags": []
   },
   "outputs": [],
   "source": [
    "library(tidyverse)\n",
    "library(magrittr)\n",
    "library(VIM)"
   ]
  },
  {
   "cell_type": "code",
   "execution_count": null,
   "id": "8f535b9a-aa6e-47b4-8ecc-d55b8d03ac7c",
   "metadata": {
    "tags": []
   },
   "outputs": [],
   "source": [
    "head(wine)"
   ]
  },
  {
   "cell_type": "code",
   "execution_count": null,
   "id": "6929a9af-51f0-4c37-8157-848f83e437e4",
   "metadata": {
    "tags": []
   },
   "outputs": [],
   "source": [
    "str(wine)"
   ]
  },
  {
   "cell_type": "markdown",
   "id": "62290e66-bafb-45f2-8a86-f42000cbd269",
   "metadata": {},
   "source": [
    "# Select Operation"
   ]
  },
  {
   "cell_type": "markdown",
   "id": "bceab131-e45f-4741-a3d7-3651cbdd5a96",
   "metadata": {},
   "source": [
    "I examined points given by each taster."
   ]
  },
  {
   "cell_type": "code",
   "execution_count": null,
   "id": "3fa5f475-3acf-4a60-89a9-9461404aace3",
   "metadata": {
    "tags": []
   },
   "outputs": [],
   "source": [
    "wine %>% select(points, taster_name)"
   ]
  },
  {
   "cell_type": "markdown",
   "id": "cbc1c21f-3691-4137-8af8-3f3455a7de9c",
   "metadata": {},
   "source": [
    "# Filter Opeartion"
   ]
  },
  {
   "cell_type": "markdown",
   "id": "de26f51d-70dc-4f34-b874-459fc2e474f9",
   "metadata": {},
   "source": [
    "I examined cheap wines with high points."
   ]
  },
  {
   "cell_type": "code",
   "execution_count": null,
   "id": "0cc33d14-5211-4e92-8237-3ce5816273b4",
   "metadata": {
    "tags": []
   },
   "outputs": [],
   "source": [
    "wine %>% summarize_if(is.numeric, mean, na.rm=T)"
   ]
  },
  {
   "cell_type": "code",
   "execution_count": null,
   "id": "4436db85-a1ae-47ba-9e81-633392c08275",
   "metadata": {
    "tags": []
   },
   "outputs": [],
   "source": [
    "wine %>% filter(points > 95, price < 45)"
   ]
  },
  {
   "cell_type": "markdown",
   "id": "a57fff03-1068-4230-8acd-effdd49fdccd",
   "metadata": {},
   "source": [
    "# Mutate Operation"
   ]
  },
  {
   "cell_type": "markdown",
   "id": "e34720e2-4108-4c0f-a22c-16ed13784b42",
   "metadata": {},
   "source": [
    "I created a price point ratio."
   ]
  },
  {
   "cell_type": "code",
   "execution_count": null,
   "id": "792f88a3-3480-43cd-9e91-7aa5f103698a",
   "metadata": {
    "tags": []
   },
   "outputs": [],
   "source": [
    "wine %<>% mutate(price_point_ratio = points/price)"
   ]
  },
  {
   "cell_type": "code",
   "execution_count": null,
   "id": "f2978596-2225-4a70-8f3d-69d1f9f2b05b",
   "metadata": {
    "tags": []
   },
   "outputs": [],
   "source": [
    "head(wine)"
   ]
  },
  {
   "cell_type": "markdown",
   "id": "55a07418-6ac9-433b-9aa3-11068dff8002",
   "metadata": {},
   "source": [
    "# Group By & Summarize Operations"
   ]
  },
  {
   "cell_type": "markdown",
   "id": "21a16dc7-67f1-4516-95ae-60ac21ad38c4",
   "metadata": {},
   "source": [
    "I tried to examine maximum points which tasters gave."
   ]
  },
  {
   "cell_type": "code",
   "execution_count": null,
   "id": "b400a742-dda3-4a08-96ca-1b29a4900cfa",
   "metadata": {
    "tags": []
   },
   "outputs": [],
   "source": [
    "wine %>% group_by(taster_name) %>% summarize(taster_max_point = max(points))"
   ]
  },
  {
   "cell_type": "markdown",
   "id": "e434d844-774f-49ae-ac1e-fd3b1ac507d8",
   "metadata": {
    "tags": []
   },
   "source": [
    "I examined max, min, avg points tasters gave by countries."
   ]
  },
  {
   "cell_type": "code",
   "execution_count": null,
   "id": "edf8eb46-a9a7-4106-b04a-034f01214804",
   "metadata": {
    "tags": []
   },
   "outputs": [],
   "source": [
    "wine_tcp <- wine %>%\n",
    "group_by(taster_name, country) %>%\n",
    "summarise(max_point = max(points),\n",
    "         min_point = min(points),\n",
    "         avg_point = mean(points))"
   ]
  },
  {
   "cell_type": "code",
   "execution_count": null,
   "id": "ec914030-20be-4db8-91f8-2e5250c69ba9",
   "metadata": {
    "tags": []
   },
   "outputs": [],
   "source": [
    "wine_tcp"
   ]
  },
  {
   "cell_type": "markdown",
   "id": "f48a76ea-de34-4236-a762-113e2102f654",
   "metadata": {},
   "source": [
    "# Pivot Wider & Longer Operations"
   ]
  },
  {
   "cell_type": "markdown",
   "id": "b1a7040f-302c-404a-b210-e3e98c478d4a",
   "metadata": {},
   "source": [
    "I examined avg points tasters gave by countries."
   ]
  },
  {
   "cell_type": "code",
   "execution_count": null,
   "id": "fa243b3d-caac-47be-8c67-6f86d6449399",
   "metadata": {
    "tags": []
   },
   "outputs": [],
   "source": [
    "wine_tcp_wide <- wine_tcp %>% pivot_wider(id_cols = taster_name, names_from = country, values_from = avg_point)"
   ]
  },
  {
   "cell_type": "code",
   "execution_count": null,
   "id": "a5e849dd-1458-43f3-a93d-8ba1ebd8eab5",
   "metadata": {
    "tags": []
   },
   "outputs": [],
   "source": [
    "wine_tcp_wide"
   ]
  },
  {
   "cell_type": "code",
   "execution_count": null,
   "id": "616bec74-fa4c-4238-8bb4-a4559a169810",
   "metadata": {
    "tags": []
   },
   "outputs": [],
   "source": [
    "wine_tcp_long <- wine_tcp_wide %>% pivot_longer(cols = -\"taster_name\", names_to = \"country\", values_to = \"avg_points\", values_drop_na = T)"
   ]
  },
  {
   "cell_type": "code",
   "execution_count": null,
   "id": "372c66ed-5a00-44f0-ac5d-3a80849fe2c4",
   "metadata": {
    "tags": []
   },
   "outputs": [],
   "source": [
    "wine_tcp_long"
   ]
  },
  {
   "cell_type": "markdown",
   "id": "ddc11f42-24fa-4399-891c-0afd2eea612f",
   "metadata": {},
   "source": [
    "# Left Join Operation"
   ]
  },
  {
   "cell_type": "markdown",
   "id": "a47426c9-6745-483f-a8f0-153fe19168aa",
   "metadata": {},
   "source": [
    "I created 2 tabbles and use left_join."
   ]
  },
  {
   "cell_type": "code",
   "execution_count": null,
   "id": "aa698890-cac8-46a8-b779-7b91f8f10483",
   "metadata": {
    "tags": []
   },
   "outputs": [],
   "source": [
    "table1 <- tibble(name = LETTERS[1:10], score1 = rnorm(n=10, mean=50, sd=15))"
   ]
  },
  {
   "cell_type": "code",
   "execution_count": null,
   "id": "5db954f3-4565-4ef9-8ac3-ab72c094455d",
   "metadata": {
    "tags": []
   },
   "outputs": [],
   "source": [
    "table1"
   ]
  },
  {
   "cell_type": "code",
   "execution_count": null,
   "id": "ee74b9d0-5480-4c73-9348-ec93a7c9baeb",
   "metadata": {
    "tags": []
   },
   "outputs": [],
   "source": [
    "table2 <- tibble(name = LETTERS[7:16], score2 = rnorm(n=10, mean=60, sd=10))"
   ]
  },
  {
   "cell_type": "code",
   "execution_count": null,
   "id": "faeaa124-3ebb-4789-bad3-34144c8ad76d",
   "metadata": {
    "tags": []
   },
   "outputs": [],
   "source": [
    "table2"
   ]
  },
  {
   "cell_type": "code",
   "execution_count": null,
   "id": "39e8f5bc-6ddb-4eef-88f2-7b9b0aa1d6b5",
   "metadata": {
    "tags": []
   },
   "outputs": [],
   "source": [
    "table1 %>% left_join(table2, by=\"name\")"
   ]
  },
  {
   "cell_type": "code",
   "execution_count": null,
   "id": "31bf40d9-d709-4599-8ae4-8c668436ed2c",
   "metadata": {},
   "outputs": [],
   "source": []
  }
 ],
 "metadata": {
  "kernelspec": {
   "display_name": "R",
   "language": "R",
   "name": "ir"
  },
  "language_info": {
   "codemirror_mode": "r",
   "file_extension": ".r",
   "mimetype": "text/x-r-source",
   "name": "R",
   "pygments_lexer": "r",
   "version": "4.4.0"
  }
 },
 "nbformat": 4,
 "nbformat_minor": 5
}
