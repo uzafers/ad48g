{
 "cells": [
  {
   "cell_type": "markdown",
   "id": "5d309049-a916-4fb0-a911-6e210545547b",
   "metadata": {},
   "source": [
    "# Umut Zafer SARA data.table Assignment"
   ]
  },
  {
   "cell_type": "markdown",
   "id": "8b33e2a4-6e32-472b-a7a6-69d6dc40fc74",
   "metadata": {},
   "source": [
    "## 1) Loading Packages and Checking Dataset"
   ]
  },
  {
   "cell_type": "markdown",
   "id": "ec0ed206-d329-4973-aea9-529804af3ec6",
   "metadata": {},
   "source": [
    "First I loaded packages."
   ]
  },
  {
   "cell_type": "code",
   "execution_count": null,
   "id": "b0a8a104-10ed-4650-b148-f7a602ec24f7",
   "metadata": {
    "tags": []
   },
   "outputs": [],
   "source": [
    "library(datasets)\n",
    "library(data.table)\n",
    "library(modelr)\n",
    "library(DT)"
   ]
  },
  {
   "cell_type": "markdown",
   "id": "e885e84d-9894-4256-8113-f01196f2f5fd",
   "metadata": {},
   "source": [
    "I checked the dataset by using head and str functions."
   ]
  },
  {
   "cell_type": "code",
   "execution_count": null,
   "id": "1334bd97-6be3-44b5-a485-f79ad50fded4",
   "metadata": {
    "tags": []
   },
   "outputs": [],
   "source": [
    "head(heights)"
   ]
  },
  {
   "cell_type": "code",
   "execution_count": null,
   "id": "cd86bc35-bcd6-4809-b304-25f68d43353e",
   "metadata": {
    "tags": []
   },
   "outputs": [],
   "source": [
    "str(heights)"
   ]
  },
  {
   "cell_type": "markdown",
   "id": "764a9a78-ddfb-4f3a-896a-bf4254f3a343",
   "metadata": {},
   "source": [
    "I made the object a data.table."
   ]
  },
  {
   "cell_type": "code",
   "execution_count": null,
   "id": "655fda73-fb79-45f2-8578-8dd162654f8a",
   "metadata": {
    "tags": []
   },
   "outputs": [],
   "source": [
    "heights <- copy(heights)\n",
    "setDT(heights)"
   ]
  },
  {
   "cell_type": "code",
   "execution_count": null,
   "id": "2d77c9a7-62e9-460c-abb9-ccaf60b3d14c",
   "metadata": {
    "tags": []
   },
   "outputs": [],
   "source": [
    "class(heights)"
   ]
  },
  {
   "cell_type": "markdown",
   "id": "97ce1280-0426-439b-8c05-e3e00e6cbd68",
   "metadata": {},
   "source": [
    "Before the making operations, I converted the imperial system to metric system to make analysis easier."
   ]
  },
  {
   "cell_type": "code",
   "execution_count": null,
   "id": "b54561bc-8814-4217-836f-d62884b17fc4",
   "metadata": {
    "tags": []
   },
   "outputs": [],
   "source": [
    "heights$height <- heights$height*2.54\n",
    "heights$weight <- heights$weight*0.453592"
   ]
  },
  {
   "cell_type": "code",
   "execution_count": null,
   "id": "cb1e5ebe-166a-42f1-acc7-10ea33bebaf5",
   "metadata": {
    "tags": []
   },
   "outputs": [],
   "source": [
    "head(heights)"
   ]
  },
  {
   "cell_type": "markdown",
   "id": "b982db52-4371-424d-8e64-158f4834e5af",
   "metadata": {},
   "source": [
    "## 2) i Operations"
   ]
  },
  {
   "cell_type": "markdown",
   "id": "e06145e3-8279-49d2-b072-6fb1aadd5bcb",
   "metadata": {},
   "source": [
    "I wanted to examine divorced women who were shorter than 161.5 centimeters (the average female height in the US) because I thought they might be discriminated."
   ]
  },
  {
   "cell_type": "code",
   "execution_count": null,
   "id": "8f8491c1-56f2-4f39-b8bd-c9eb93a3a7d6",
   "metadata": {
    "tags": []
   },
   "outputs": [],
   "source": [
    "heights[height < 161.5 & marital == 'divorced' & sex == 'female']"
   ]
  },
  {
   "cell_type": "markdown",
   "id": "15966760-dae8-4294-b29f-37b9d417b82d",
   "metadata": {},
   "source": [
    "## 3) j Operations"
   ]
  },
  {
   "cell_type": "markdown",
   "id": "0d9d423d-8089-472f-b9b3-7421a306a7bd",
   "metadata": {},
   "source": [
    "Some studies claim that there is a link between physical attractiveness and income. This dataset can be used to understand this relationship. For this, I calculated the body mass index from the dataset."
   ]
  },
  {
   "cell_type": "code",
   "execution_count": null,
   "id": "0a30549d-80c6-45ab-9705-360c95f82282",
   "metadata": {
    "tags": []
   },
   "outputs": [],
   "source": [
    "heights[, .(income, height, weight, bmi = (weight/(height/100)^2))]"
   ]
  },
  {
   "cell_type": "markdown",
   "id": "d034b494-1f2e-41e0-b2c9-035a471d430f",
   "metadata": {},
   "source": [
    "I added this column to the dataset using the \":=\"."
   ]
  },
  {
   "cell_type": "code",
   "execution_count": null,
   "id": "800958c6-1479-4970-ba58-797c01b60a55",
   "metadata": {
    "tags": []
   },
   "outputs": [],
   "source": [
    "heights[, bmi := (weight/(height/100)^2)]"
   ]
  },
  {
   "cell_type": "code",
   "execution_count": null,
   "id": "eca5edaf-29d1-4fe3-8200-2879765f23df",
   "metadata": {
    "tags": []
   },
   "outputs": [],
   "source": [
    "head(heights)"
   ]
  },
  {
   "cell_type": "markdown",
   "id": "9c11a322-e938-46d5-b7b5-6433e5c1b14e",
   "metadata": {},
   "source": [
    "I also thought that income per year of education could be a valuable indicator, so I calculated and added it as well."
   ]
  },
  {
   "cell_type": "code",
   "execution_count": null,
   "id": "0ed78711-9880-4303-b0e9-fdac49eda25f",
   "metadata": {
    "tags": []
   },
   "outputs": [],
   "source": [
    "heights[, .(income, education, ipe = income/education)]"
   ]
  },
  {
   "cell_type": "code",
   "execution_count": null,
   "id": "8e1d3bbe-ff75-48ff-89d7-c614664449a9",
   "metadata": {
    "tags": []
   },
   "outputs": [],
   "source": [
    "heights[, ipe := income/education]"
   ]
  },
  {
   "cell_type": "code",
   "execution_count": null,
   "id": "6181eade-b8df-4c3d-97a2-d2f08b169035",
   "metadata": {
    "tags": []
   },
   "outputs": [],
   "source": [
    "head(heights)"
   ]
  },
  {
   "cell_type": "markdown",
   "id": "812d3f94-b137-407e-8e57-3cf529bbe811",
   "metadata": {},
   "source": [
    "## 4) by Operations"
   ]
  },
  {
   "cell_type": "markdown",
   "id": "64b0335d-5c66-4a5b-8df8-e723cf315579",
   "metadata": {},
   "source": [
    "In this section, I wanted to analyze the maximum, minimum, and average incomes based on sex and marital status."
   ]
  },
  {
   "cell_type": "code",
   "execution_count": null,
   "id": "7468b15c-934c-421e-8393-acbd0c19ed50",
   "metadata": {
    "tags": []
   },
   "outputs": [],
   "source": [
    "heights[, .(max_in = max(income), min_in = min(income), avg_in = mean(income)), by = c(\"marital\", \"sex\")]"
   ]
  },
  {
   "cell_type": "markdown",
   "id": "5ae3ad80-b7f1-4fad-ba9f-6cd878d7bdb1",
   "metadata": {},
   "source": [
    "I thought the 0 values ​​were negatively affecting the analysis so I removed them and reanalyzed."
   ]
  },
  {
   "cell_type": "code",
   "execution_count": null,
   "id": "891e1f26-0ac2-4920-82ec-1ed3804998b0",
   "metadata": {
    "tags": []
   },
   "outputs": [],
   "source": [
    "heights[income != 0, .(max_in = max(income), min_in = min(income), avg_in = mean(income)), by = c(\"marital\", \"sex\")]"
   ]
  },
  {
   "cell_type": "markdown",
   "id": "3c6c7fbd-66e5-469d-b7d1-5778bf7300ef",
   "metadata": {},
   "source": [
    "## 5) dcast and melt Operations"
   ]
  },
  {
   "cell_type": "markdown",
   "id": "287888e7-3501-4ff6-a425-c11bbc07271b",
   "metadata": {},
   "source": [
    "In this section I used dcast and melt operations on previous analysis."
   ]
  },
  {
   "cell_type": "code",
   "execution_count": null,
   "id": "8cecb691-9600-4709-82f2-1715aad4b45e",
   "metadata": {
    "tags": []
   },
   "outputs": [],
   "source": [
    "by_marital_and_sex <- heights[income != 0, .(max_in = max(income), min_in = min(income), avg_in = mean(income)), by = c(\"marital\", \"sex\")]"
   ]
  },
  {
   "cell_type": "code",
   "execution_count": null,
   "id": "98fdb6c6-4825-4821-b80e-8b83ce9f9268",
   "metadata": {
    "tags": []
   },
   "outputs": [],
   "source": [
    "by_marital_and_sex"
   ]
  },
  {
   "cell_type": "code",
   "execution_count": null,
   "id": "54c71a5f-c3a8-4864-a949-90cffac33f76",
   "metadata": {
    "tags": []
   },
   "outputs": [],
   "source": [
    "by_marital_and_sex_wide <- dcast(by_marital_and_sex, sex ~ marital, value.var = \"avg_in\")"
   ]
  },
  {
   "cell_type": "code",
   "execution_count": null,
   "id": "061ef127-e0d2-4ce9-b9fb-f29d113d7fa2",
   "metadata": {
    "tags": []
   },
   "outputs": [],
   "source": [
    "by_marital_and_sex_wide"
   ]
  },
  {
   "cell_type": "code",
   "execution_count": null,
   "id": "5de4a852-13b0-4a61-a19e-37d8a092a898",
   "metadata": {
    "tags": []
   },
   "outputs": [],
   "source": [
    "melt(by_marital_and_sex_wide, id.vars = \"sex\", variable.name = \"marital\", value.name = \"avg_in\")"
   ]
  }
 ],
 "metadata": {
  "kernelspec": {
   "display_name": "R",
   "language": "R",
   "name": "ir"
  },
  "language_info": {
   "codemirror_mode": "r",
   "file_extension": ".r",
   "mimetype": "text/x-r-source",
   "name": "R",
   "pygments_lexer": "r",
   "version": "4.4.0"
  }
 },
 "nbformat": 4,
 "nbformat_minor": 5
}
